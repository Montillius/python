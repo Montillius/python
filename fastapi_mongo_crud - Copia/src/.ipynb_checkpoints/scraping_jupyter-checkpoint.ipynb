{
 "cells": [
  {
   "cell_type": "code",
   "execution_count": 8,
   "id": "35cd7c56",
   "metadata": {},
   "outputs": [],
   "source": [
    "import requests\n",
    "from bs4 import BeautifulSoup"
   ]
  },
  {
   "cell_type": "code",
   "execution_count": 9,
   "id": "b0b2c215",
   "metadata": {},
   "outputs": [],
   "source": [
    "url = 'https://www.uol.com.br/esporte/futebol/campeonatos/italiano/'\n",
    "response = requests.get('https://www.uol.com.br/esporte/futebol/campeonatos/italiano/')"
   ]
  },
  {
   "cell_type": "code",
   "execution_count": 10,
   "id": "2254b794",
   "metadata": {},
   "outputs": [],
   "source": [
    "soup = BeautifulSoup(response.content, 'html.parser')"
   ]
  },
  {
   "cell_type": "code",
   "execution_count": 11,
   "id": "9b65c89f",
   "metadata": {},
   "outputs": [],
   "source": [
    "classificacoes = []\n",
    "table = soup.find('table',class_= 'data-table name')\n",
    "tbody = soup.find('tbody')\n",
    "trs = tbody.find_all('tr')"
   ]
  },
  {
   "cell_type": "code",
   "execution_count": 12,
   "id": "db0ede71",
   "metadata": {},
   "outputs": [],
   "source": [
    "for tr in trs:\n",
    "    spans = tr.find_all('span')\n",
    "    classificacao = {\n",
    "        'ranking':spans[0].text,\n",
    "        'time': spans[2].find('div', class_='visible-sm visible-lg').text\n",
    "    }\n",
    "    classificacoes.append(classificacao)"
   ]
  },
  {
   "cell_type": "code",
   "execution_count": 13,
   "id": "12458ec4",
   "metadata": {},
   "outputs": [],
   "source": [
    "pontuacao = []\n",
    "table2 = soup.find('table',class_= 'data-table score')\n",
    "tbody2 = soup.find('tbody',class_= 'score')\n",
    "trs2 = tbody2.find_all('tr')"
   ]
  },
  {
   "cell_type": "code",
   "execution_count": 14,
   "id": "70fa6881",
   "metadata": {},
   "outputs": [],
   "source": [
    "for tr in trs2:\n",
    "    tds2 = tr.find_all('td')\n",
    "    score = {\n",
    "        'pontos':tds2[0].text,\n",
    "        'jogos':tds2[1].text,\n",
    "        'vitorias':tds2[2].text,\n",
    "        'empates':tds2[3].text,\n",
    "        'derrotas':tds2[4].text,\n",
    "        'gols_feitos':tds2[5].text,\n",
    "        'gols_sofridos':tds2[6].text,\n",
    "        'saldo_de_gols':tds2[7].text,\n",
    "        'aproveitamento':tds2[8].text\n",
    "    }\n",
    "    pontuacao.append(score)"
   ]
  },
  {
   "cell_type": "code",
   "execution_count": 23,
   "id": "88fca08b",
   "metadata": {},
   "outputs": [
    {
     "ename": "TypeError",
     "evalue": "unhashable type: 'dict'",
     "output_type": "error",
     "traceback": [
      "\u001b[0;31m---------------------------------------------------------------------------\u001b[0m",
      "\u001b[0;31mTypeError\u001b[0m                                 Traceback (most recent call last)",
      "Input \u001b[0;32mIn [23]\u001b[0m, in \u001b[0;36m<cell line: 1>\u001b[0;34m()\u001b[0m\n\u001b[1;32m      1\u001b[0m \u001b[38;5;28;01mfor\u001b[39;00m classificacao \u001b[38;5;129;01min\u001b[39;00m classificacoes:\n\u001b[1;32m      2\u001b[0m        classificacao\u001b[38;5;241m.\u001b[39mupdate(score)\n\u001b[0;32m----> 3\u001b[0m        result \u001b[38;5;241m=\u001b[39m {classificacao}\n\u001b[1;32m      4\u001b[0m \u001b[38;5;28mprint\u001b[39m(result)\n",
      "\u001b[0;31mTypeError\u001b[0m: unhashable type: 'dict'"
     ]
    }
   ],
   "source": [
    "for classificacao in classificacoes:\n",
    "       classificacao.update(score)\n",
    "       result = classificacoes\n",
    "print(result)"
   ]
  },
  {
   "cell_type": "code",
   "execution_count": null,
   "id": "7eb28b26",
   "metadata": {},
   "outputs": [],
   "source": []
  }
 ],
 "metadata": {
  "kernelspec": {
   "display_name": "Python 3 (ipykernel)",
   "language": "python",
   "name": "python3"
  },
  "language_info": {
   "codemirror_mode": {
    "name": "ipython",
    "version": 3
   },
   "file_extension": ".py",
   "mimetype": "text/x-python",
   "name": "python",
   "nbconvert_exporter": "python",
   "pygments_lexer": "ipython3",
   "version": "3.9.12"
  }
 },
 "nbformat": 4,
 "nbformat_minor": 5
}
