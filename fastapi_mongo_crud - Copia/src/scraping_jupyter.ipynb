{
 "cells": [
  {
   "cell_type": "code",
   "execution_count": 1,
   "id": "35cd7c56",
   "metadata": {},
   "outputs": [],
   "source": [
    "import requests\n",
    "from bs4 import BeautifulSoup"
   ]
  },
  {
   "cell_type": "code",
   "execution_count": 2,
   "id": "b0b2c215",
   "metadata": {},
   "outputs": [],
   "source": [
    "url = 'https://www.uol.com.br/esporte/futebol/campeonatos/italiano/'\n",
    "response = requests.get('https://www.uol.com.br/esporte/futebol/campeonatos/italiano/')"
   ]
  },
  {
   "cell_type": "code",
   "execution_count": 3,
   "id": "2254b794",
   "metadata": {},
   "outputs": [],
   "source": [
    "soup = BeautifulSoup(response.content, 'html.parser')"
   ]
  },
  {
   "cell_type": "code",
   "execution_count": 4,
   "id": "9b65c89f",
   "metadata": {},
   "outputs": [],
   "source": [
    "classificacoes = []\n",
    "table = soup.find('table',class_= 'data-table name')\n",
    "tbody = soup.find('tbody')\n",
    "trs = tbody.find_all('tr')"
   ]
  },
  {
   "cell_type": "code",
   "execution_count": 5,
   "id": "db0ede71",
   "metadata": {},
   "outputs": [],
   "source": [
    "for tr in trs:\n",
    "    spans = tr.find_all('span')\n",
    "    classificacao = {\n",
    "        'ranking':spans[0].text,\n",
    "        'time': spans[2].find('div', class_='visible-sm visible-lg').text\n",
    "    }\n",
    "    classificacoes.append(classificacao)"
   ]
  },
  {
   "cell_type": "code",
   "execution_count": 6,
   "id": "12458ec4",
   "metadata": {},
   "outputs": [],
   "source": [
    "pontuacao = []\n",
    "table2 = soup.find('table',class_= 'data-table score')\n",
    "tbody2 = soup.find('tbody',class_= 'score')\n",
    "trs2 = tbody2.find_all('tr')"
   ]
  },
  {
   "cell_type": "code",
   "execution_count": 7,
   "id": "70fa6881",
   "metadata": {},
   "outputs": [],
   "source": [
    "for tr in trs2:\n",
    "    tds2 = tr.find_all('td')\n",
    "    score = {\n",
    "        'pontos':tds2[0].text,\n",
    "        'jogos':tds2[1].text,\n",
    "        'vitorias':tds2[2].text,\n",
    "        'empates':tds2[3].text,\n",
    "        'derrotas':tds2[4].text,\n",
    "        'gols_feitos':tds2[5].text,\n",
    "        'gols_sofridos':tds2[6].text,\n",
    "        'saldo_de_gols':tds2[7].text,\n",
    "        'aproveitamento':tds2[8].text\n",
    "    }\n",
    "    pontuacao.append(score)"
   ]
  },
  {
   "cell_type": "code",
   "execution_count": 8,
   "id": "88fca08b",
   "metadata": {},
   "outputs": [
    {
     "name": "stdout",
     "output_type": "stream",
     "text": [
      "[{'ranking': '1°', 'time': 'Napoli', 'pontos': '0', 'jogos': '3', 'vitorias': '0', 'empates': '0', 'derrotas': '3', 'gols_feitos': '8', 'gols_sofridos': '2', 'saldo_de_gols': '-6', 'aproveitamento': '0'}, {'ranking': '2°', 'time': 'Milan', 'pontos': '0', 'jogos': '3', 'vitorias': '0', 'empates': '0', 'derrotas': '3', 'gols_feitos': '8', 'gols_sofridos': '2', 'saldo_de_gols': '-6', 'aproveitamento': '0'}, {'ranking': '3°', 'time': 'Lazio', 'pontos': '0', 'jogos': '3', 'vitorias': '0', 'empates': '0', 'derrotas': '3', 'gols_feitos': '8', 'gols_sofridos': '2', 'saldo_de_gols': '-6', 'aproveitamento': '0'}, {'ranking': '4°', 'time': 'Atalanta', 'pontos': '0', 'jogos': '3', 'vitorias': '0', 'empates': '0', 'derrotas': '3', 'gols_feitos': '8', 'gols_sofridos': '2', 'saldo_de_gols': '-6', 'aproveitamento': '0'}, {'ranking': '5°', 'time': 'Torino', 'pontos': '0', 'jogos': '3', 'vitorias': '0', 'empates': '0', 'derrotas': '3', 'gols_feitos': '8', 'gols_sofridos': '2', 'saldo_de_gols': '-6', 'aproveitamento': '0'}, {'ranking': '6°', 'time': 'Roma', 'pontos': '0', 'jogos': '3', 'vitorias': '0', 'empates': '0', 'derrotas': '3', 'gols_feitos': '8', 'gols_sofridos': '2', 'saldo_de_gols': '-6', 'aproveitamento': '0'}, {'ranking': '7°', 'time': 'Internazionale', 'pontos': '0', 'jogos': '3', 'vitorias': '0', 'empates': '0', 'derrotas': '3', 'gols_feitos': '8', 'gols_sofridos': '2', 'saldo_de_gols': '-6', 'aproveitamento': '0'}, {'ranking': '8°', 'time': 'Juventus', 'pontos': '0', 'jogos': '3', 'vitorias': '0', 'empates': '0', 'derrotas': '3', 'gols_feitos': '8', 'gols_sofridos': '2', 'saldo_de_gols': '-6', 'aproveitamento': '0'}, {'ranking': '9°', 'time': 'Fiorentina', 'pontos': '0', 'jogos': '3', 'vitorias': '0', 'empates': '0', 'derrotas': '3', 'gols_feitos': '8', 'gols_sofridos': '2', 'saldo_de_gols': '-6', 'aproveitamento': '0'}, {'ranking': '10°', 'time': 'Salernitana', 'pontos': '0', 'jogos': '3', 'vitorias': '0', 'empates': '0', 'derrotas': '3', 'gols_feitos': '8', 'gols_sofridos': '2', 'saldo_de_gols': '-6', 'aproveitamento': '0'}, {'ranking': '11°', 'time': 'Udinese', 'pontos': '0', 'jogos': '3', 'vitorias': '0', 'empates': '0', 'derrotas': '3', 'gols_feitos': '8', 'gols_sofridos': '2', 'saldo_de_gols': '-6', 'aproveitamento': '0'}, {'ranking': '12°', 'time': 'Sassuolo', 'pontos': '0', 'jogos': '3', 'vitorias': '0', 'empates': '0', 'derrotas': '3', 'gols_feitos': '8', 'gols_sofridos': '2', 'saldo_de_gols': '-6', 'aproveitamento': '0'}, {'ranking': '13°', 'time': 'Spezia', 'pontos': '0', 'jogos': '3', 'vitorias': '0', 'empates': '0', 'derrotas': '3', 'gols_feitos': '8', 'gols_sofridos': '2', 'saldo_de_gols': '-6', 'aproveitamento': '0'}, {'ranking': '14°', 'time': 'Empoli', 'pontos': '0', 'jogos': '3', 'vitorias': '0', 'empates': '0', 'derrotas': '3', 'gols_feitos': '8', 'gols_sofridos': '2', 'saldo_de_gols': '-6', 'aproveitamento': '0'}, {'ranking': '15°', 'time': 'Lecce', 'pontos': '0', 'jogos': '3', 'vitorias': '0', 'empates': '0', 'derrotas': '3', 'gols_feitos': '8', 'gols_sofridos': '2', 'saldo_de_gols': '-6', 'aproveitamento': '0'}, {'ranking': '16°', 'time': 'Bologna', 'pontos': '0', 'jogos': '3', 'vitorias': '0', 'empates': '0', 'derrotas': '3', 'gols_feitos': '8', 'gols_sofridos': '2', 'saldo_de_gols': '-6', 'aproveitamento': '0'}, {'ranking': '17°', 'time': 'Hellas Verona', 'pontos': '0', 'jogos': '3', 'vitorias': '0', 'empates': '0', 'derrotas': '3', 'gols_feitos': '8', 'gols_sofridos': '2', 'saldo_de_gols': '-6', 'aproveitamento': '0'}, {'ranking': '18°', 'time': 'Sampdoria', 'pontos': '0', 'jogos': '3', 'vitorias': '0', 'empates': '0', 'derrotas': '3', 'gols_feitos': '8', 'gols_sofridos': '2', 'saldo_de_gols': '-6', 'aproveitamento': '0'}, {'ranking': '19°', 'time': 'Cremonese', 'pontos': '0', 'jogos': '3', 'vitorias': '0', 'empates': '0', 'derrotas': '3', 'gols_feitos': '8', 'gols_sofridos': '2', 'saldo_de_gols': '-6', 'aproveitamento': '0'}, {'ranking': '20°', 'time': 'Monza', 'pontos': '0', 'jogos': '3', 'vitorias': '0', 'empates': '0', 'derrotas': '3', 'gols_feitos': '8', 'gols_sofridos': '2', 'saldo_de_gols': '-6', 'aproveitamento': '0'}]\n"
     ]
    }
   ],
   "source": [
    "for classificacao in classificacoes:\n",
    "       classificacao.update(score)\n",
    "       result = classificacoes\n",
    "print(result)"
   ]
  },
  {
   "cell_type": "code",
   "execution_count": null,
   "id": "bae510f7",
   "metadata": {},
   "outputs": [],
   "source": []
  }
 ],
 "metadata": {
  "kernelspec": {
   "display_name": "Python 3 (ipykernel)",
   "language": "python",
   "name": "python3"
  },
  "language_info": {
   "codemirror_mode": {
    "name": "ipython",
    "version": 3
   },
   "file_extension": ".py",
   "mimetype": "text/x-python",
   "name": "python",
   "nbconvert_exporter": "python",
   "pygments_lexer": "ipython3",
   "version": "3.10.4"
  },
  "vscode": {
   "interpreter": {
    "hash": "c96dff22c7f32f40f4236fc5b9f9093f98283cbef98ccca313c3cba0af24c970"
   }
  }
 },
 "nbformat": 4,
 "nbformat_minor": 5
}
